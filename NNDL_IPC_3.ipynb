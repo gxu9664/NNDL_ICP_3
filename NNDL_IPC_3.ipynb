{
 "cells": [
  {
   "cell_type": "code",
   "execution_count": 1,
   "id": "9359dd48",
   "metadata": {},
   "outputs": [
    {
     "name": "stdout",
     "output_type": "stream",
     "text": [
      "Total Employees: 5\n",
      "Average Salary: 72000.0\n"
     ]
    }
   ],
   "source": [
    "# Employee Class\n",
    "class Employee:\n",
    "    num_of_employees = 0\n",
    "\n",
    "    # initializing the attributes\n",
    "    def __init__(self, name, family, salary, department):\n",
    "        self.name = name\n",
    "        self.family = family\n",
    "        self.salary = salary\n",
    "        self.department = department\n",
    "        Employee.num_of_employees += 1\n",
    "\n",
    "    # Average Salary Method\n",
    "    def averageSalary(self, employees):\n",
    "        total_salary = sum(emp.salary for emp in employees)\n",
    "        return total_salary / len(employees)\n",
    "\n",
    "# Full Time Employee Class - Super Class\n",
    "class FulltimeEmployee(Employee):\n",
    "    def __init__(self, name, family, salary, department, employment_type):\n",
    "        super().__init__(name, family, salary, department)\n",
    "        self.employment_type = employment_type\n",
    "\n",
    "# Instances of Employee class\n",
    "employee1 = Employee(\"sai\", \"O\", 50000, \"data analyst\")\n",
    "employee2 = Employee(\"kumari\", \"Q\", 80000, \"developer\")\n",
    "\n",
    "# Instances of FulltimeEmployee class\n",
    "fulltime1 = FulltimeEmployee(\"Ali\", \"k\", 90000, \"manager\", \"FullTime\")\n",
    "fulltime2 = FulltimeEmployee(\"sam\", \"r\", 100000, \"HR\", \"FullTime\")\n",
    "fulltime3 = FulltimeEmployee(\"manu\", \"L\", 40000, \"jr. software\", \"FullTime\")\n",
    "\n",
    "# Call member functions\n",
    "employees = [employee1, employee2, fulltime1, fulltime2, fulltime3]\n",
    "avgSalary = employee1.averageSalary(employees)\n",
    "\n",
    "print(\"Total Employees:\", Employee.num_of_employees)\n",
    "print(\"Average Salary:\", avgSalary)\n",
    "\n"
   ]
  },
  {
   "cell_type": "code",
   "execution_count": 2,
   "id": "fb148d51",
   "metadata": {},
   "outputs": [
    {
     "name": "stdout",
     "output_type": "stream",
     "text": [
      "[16.80315758 13.1168193  18.2180487  12.50009096  9.71779387  5.46332218\n",
      "  7.25887767 14.57947539  7.18358239 19.74832112 16.30509433  7.45539097\n",
      "  5.87422074  3.84775234 19.27591017  8.51065893  5.89586223  9.24848341\n",
      "  2.51186033 14.06072774]\n",
      "\n",
      "\n",
      "\n",
      "\n",
      "[[16.80315758 13.1168193  18.2180487  12.50009096  9.71779387]\n",
      " [ 5.46332218  7.25887767 14.57947539  7.18358239 19.74832112]\n",
      " [16.30509433  7.45539097  5.87422074  3.84775234 19.27591017]\n",
      " [ 8.51065893  5.89586223  9.24848341  2.51186033 14.06072774]]\n",
      "\n",
      "\n",
      "[[16.80315758 13.1168193   0.         12.50009096  9.71779387]\n",
      " [ 5.46332218  7.25887767 14.57947539  7.18358239  0.        ]\n",
      " [16.30509433  7.45539097  5.87422074  3.84775234  0.        ]\n",
      " [ 8.51065893  5.89586223  9.24848341  2.51186033  0.        ]]\n"
     ]
    }
   ],
   "source": [
    "import numpy\n",
    "\n",
    "random_vector = numpy.random.uniform(1, 20, 20)\n",
    "print(random_vector)\n",
    "print(\"\")\n",
    "print(\"\")\n",
    "reshaped_array = random_vector.reshape(4, 5)\n",
    "print(\"\")\n",
    "print(\"\")\n",
    "print(reshaped_array)\n",
    "reshaped_array[numpy.arange(4), numpy.argmax(reshaped_array, axis=1)] = 0\n",
    "print(\"\")\n",
    "print(\"\")\n",
    "print(reshaped_array)\n"
   ]
  },
  {
   "cell_type": "code",
   "execution_count": null,
   "id": "ffc907b7",
   "metadata": {},
   "outputs": [],
   "source": []
  }
 ],
 "metadata": {
  "kernelspec": {
   "display_name": "Python 3 (ipykernel)",
   "language": "python",
   "name": "python3"
  },
  "language_info": {
   "codemirror_mode": {
    "name": "ipython",
    "version": 3
   },
   "file_extension": ".py",
   "mimetype": "text/x-python",
   "name": "python",
   "nbconvert_exporter": "python",
   "pygments_lexer": "ipython3",
   "version": "3.9.13"
  }
 },
 "nbformat": 4,
 "nbformat_minor": 5
}
