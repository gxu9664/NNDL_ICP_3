{
 "cells": [
  {
   "cell_type": "code",
   "execution_count": 5,
   "id": "9359dd48",
   "metadata": {},
   "outputs": [
    {
     "name": "stdout",
     "output_type": "stream",
     "text": [
      "Total Employees: 5\n",
      "Average Salary: 72000.0\n"
     ]
    }
   ],
   "source": [
    "# Employee Class\n",
    "class Employee:\n",
    "    num_of_employees = 0\n",
    "\n",
    "    # initializing the attributes\n",
    "    def __init__(self, name, family, salary, department):\n",
    "        self.name = name\n",
    "        self.family = family\n",
    "        self.salary = salary\n",
    "        self.department = department\n",
    "        Employee.num_of_employees += 1\n",
    "\n",
    "    # Average Salary Method\n",
    "    def averageSalary(self, employees):\n",
    "        total_salary = sum(emp.salary for emp in employees)\n",
    "        return total_salary / len(employees)\n",
    "\n",
    "# Full Time Employee Class - Super Class\n",
    "class FulltimeEmployee(Employee):\n",
    "    def __init__(self, name, family, salary, department, employment_type):\n",
    "        super().__init__(name, family, salary, department)\n",
    "        self.employment_type = employment_type\n",
    "\n",
    "# Instances of Employee class\n",
    "employee1 = Employee(\"sai\", 3, 50000, \"data analyst\")\n",
    "employee2 = Employee(\"kumari\", 4, 80000, \"developer\")\n",
    "\n",
    "# Instances of FulltimeEmployee class\n",
    "fulltime1 = FulltimeEmployee(\"Ali\", 5, 90000, \"manager\", \"FullTime\")\n",
    "fulltime2 = FulltimeEmployee(\"sam\", 6, 100000, \"HR\", \"FullTime\")\n",
    "fulltime3 = FulltimeEmployee(\"manu\", 4, 40000, \"jr. software\", \"FullTime\")\n",
    "\n",
    "# Call member functions\n",
    "employees = [employee1, employee2, fulltime1, fulltime2, fulltime3]\n",
    "avgSalary = employee1.averageSalary(employees)\n",
    "\n",
    "print(\"Total Employees:\", Employee.num_of_employees)\n",
    "print(\"Average Salary:\", avgSalary)\n",
    "\n"
   ]
  },
  {
   "cell_type": "code",
   "execution_count": 6,
   "id": "fb148d51",
   "metadata": {},
   "outputs": [
    {
     "name": "stdout",
     "output_type": "stream",
     "text": [
      "[ 2.40020544  3.82502573 15.08014599 10.22644581  2.35915991 16.2519168\n",
      "  1.15620555  3.54609571  7.1647101   7.00332289  8.47262328 12.041698\n",
      " 15.18359167 17.54202467  7.84867571 15.45265676 14.59192852  1.98425209\n",
      " 11.86621657  5.08415859]\n",
      "\n",
      "\n",
      "\n",
      "\n",
      "[[ 2.40020544  3.82502573 15.08014599 10.22644581  2.35915991]\n",
      " [16.2519168   1.15620555  3.54609571  7.1647101   7.00332289]\n",
      " [ 8.47262328 12.041698   15.18359167 17.54202467  7.84867571]\n",
      " [15.45265676 14.59192852  1.98425209 11.86621657  5.08415859]]\n",
      "\n",
      "\n",
      "[[ 2.40020544  3.82502573  0.         10.22644581  2.35915991]\n",
      " [ 0.          1.15620555  3.54609571  7.1647101   7.00332289]\n",
      " [ 8.47262328 12.041698   15.18359167  0.          7.84867571]\n",
      " [ 0.         14.59192852  1.98425209 11.86621657  5.08415859]]\n"
     ]
    }
   ],
   "source": [
    "import numpy\n",
    "\n",
    "random_vector = numpy.random.uniform(1, 20, 20)\n",
    "print(random_vector)\n",
    "print(\"\")\n",
    "print(\"\")\n",
    "reshaped_array = random_vector.reshape(4, 5)\n",
    "print(\"\")\n",
    "print(\"\")\n",
    "print(reshaped_array)\n",
    "reshaped_array[numpy.arange(4), numpy.argmax(reshaped_array, axis=1)] = 0\n",
    "print(\"\")\n",
    "print(\"\")\n",
    "print(reshaped_array)\n"
   ]
  },
  {
   "cell_type": "code",
   "execution_count": null,
   "id": "ffc907b7",
   "metadata": {},
   "outputs": [],
   "source": []
  }
 ],
 "metadata": {
  "kernelspec": {
   "display_name": "Python 3 (ipykernel)",
   "language": "python",
   "name": "python3"
  },
  "language_info": {
   "codemirror_mode": {
    "name": "ipython",
    "version": 3
   },
   "file_extension": ".py",
   "mimetype": "text/x-python",
   "name": "python",
   "nbconvert_exporter": "python",
   "pygments_lexer": "ipython3",
   "version": "3.9.13"
  }
 },
 "nbformat": 4,
 "nbformat_minor": 5
}
